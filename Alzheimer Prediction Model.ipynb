{
 "cells": [
  {
   "cell_type": "markdown",
   "id": "e973f07f-1889-4673-8ae7-c7a420df1545",
   "metadata": {},
   "source": [
    "Importing necessary libraries"
   ]
  },
  {
   "cell_type": "code",
   "execution_count": 2,
   "id": "4a26f5fe-3527-416e-a6fb-158caf1e8f49",
   "metadata": {},
   "outputs": [],
   "source": [
    "import numpy as np\n",
    "import pandas as pd"
   ]
  },
  {
   "cell_type": "markdown",
   "id": "97e2d0dd-4a1a-456b-bbab-de87a99e589c",
   "metadata": {},
   "source": [
    "Importing the dataset and cleaning up the dataset by removing unnecessary variables that make no contribution to the diagnosis"
   ]
  },
  {
   "cell_type": "code",
   "execution_count": 20,
   "id": "fc78554f-dc57-462a-a70a-95cc9a8373cd",
   "metadata": {},
   "outputs": [],
   "source": [
    "dataset = pd.read_csv(\"alzheimers_disease_data.csv\").drop([\"PatientID\", \"DoctorInCharge\"], axis = 1)\n",
    "X = dataset.iloc[:, :-1]\n",
    "y = dataset.iloc[:, -1].values"
   ]
  },
  {
   "cell_type": "markdown",
   "id": "3508f245-c33b-44ec-a0a3-13533094f823",
   "metadata": {},
   "source": [
    "Checking and acocunting for missing values (none in this case)"
   ]
  },
  {
   "cell_type": "code",
   "execution_count": 21,
   "id": "02eed744-18a3-4a25-99f4-ad7b4738381c",
   "metadata": {},
   "outputs": [
    {
     "name": "stdout",
     "output_type": "stream",
     "text": [
      "Age                          0\n",
      "Gender                       0\n",
      "Ethnicity                    0\n",
      "EducationLevel               0\n",
      "BMI                          0\n",
      "Smoking                      0\n",
      "AlcoholConsumption           0\n",
      "PhysicalActivity             0\n",
      "DietQuality                  0\n",
      "SleepQuality                 0\n",
      "FamilyHistoryAlzheimers      0\n",
      "CardiovascularDisease        0\n",
      "Diabetes                     0\n",
      "Depression                   0\n",
      "HeadInjury                   0\n",
      "Hypertension                 0\n",
      "SystolicBP                   0\n",
      "DiastolicBP                  0\n",
      "CholesterolTotal             0\n",
      "CholesterolLDL               0\n",
      "CholesterolHDL               0\n",
      "CholesterolTriglycerides     0\n",
      "MMSE                         0\n",
      "FunctionalAssessment         0\n",
      "MemoryComplaints             0\n",
      "BehavioralProblems           0\n",
      "ADL                          0\n",
      "Confusion                    0\n",
      "Disorientation               0\n",
      "PersonalityChanges           0\n",
      "DifficultyCompletingTasks    0\n",
      "Forgetfulness                0\n",
      "Diagnosis                    0\n",
      "dtype: int64\n"
     ]
    }
   ],
   "source": [
    "print(dataset.isnull().sum())"
   ]
  },
  {
   "cell_type": "markdown",
   "id": "c2e98de8-1434-453b-9191-d89efb10a9e8",
   "metadata": {},
   "source": [
    "Splitting the dataset into training and testing sets"
   ]
  },
  {
   "cell_type": "code",
   "execution_count": 36,
   "id": "01fde51b-f7dd-4ced-9a39-41e5e99567df",
   "metadata": {},
   "outputs": [],
   "source": [
    "from sklearn.model_selection import train_test_split\n",
    "X_train, X_test, y_train, y_test = train_test_split(X, y, test_size = 0.25, random_state=0)"
   ]
  },
  {
   "cell_type": "code",
   "execution_count": 37,
   "id": "3f5979b8-236a-4dfd-849a-c6c224143f87",
   "metadata": {},
   "outputs": [],
   "source": [
    "from sklearn.preprocessing import StandardScaler\n",
    "sc = StandardScaler()\n",
    "scale_col = [\"Age\", \"BMI\", \"AlcoholConsumption\", \"PhysicalActivity\", \"DietQuality\", \"SleepQuality\", \"SystolicBP\", \"DiastolicBP\", \"CholesterolLDL\", \"CholesterolHDL\", \"CholesterolTriglycerides\", \"MMSE\"]\n",
    "X_train[scale_col] = np.array(sc.fit_transform(X_train[scale_col]))\n",
    "X_test[scale_col] =  np.array(sc.transform(X_test[scale_col]))"
   ]
  },
  {
   "cell_type": "markdown",
   "id": "8ac66649-38a0-4e91-848a-6024275039fe",
   "metadata": {},
   "source": [
    "Initializing and training the Random Forest Classifier"
   ]
  },
  {
   "cell_type": "code",
   "execution_count": 38,
   "id": "f77c86f8-e06b-4928-aec9-63d25b277051",
   "metadata": {},
   "outputs": [],
   "source": [
    "from sklearn.ensemble import RandomForestClassifier\n",
    "classifier = RandomForestClassifier(n_estimators = 1000, random_state = 0)\n",
    "classifier.fit(X_train, y_train)\n",
    "prediction = classifier.predict(X_test)"
   ]
  },
  {
   "cell_type": "markdown",
   "id": "b6286d26-c8c0-4de9-8e2a-03ff35f844ff",
   "metadata": {},
   "source": [
    "Predicting the values of the testing dataset"
   ]
  },
  {
   "cell_type": "code",
   "execution_count": 39,
   "id": "8249b193-08e0-4819-9a2c-06223df2eb1d",
   "metadata": {},
   "outputs": [
    {
     "name": "stdout",
     "output_type": "stream",
     "text": [
      "The number of true negatives are 339\n",
      "The number of true positives  are 177\n",
      "The number of false negatives are 17\n",
      "The number of false positives are 5\n",
      "The accuracy of the model is 95.91%\n"
     ]
    }
   ],
   "source": [
    "from sklearn.metrics import confusion_matrix, accuracy_score\n",
    "con_matrix = confusion_matrix(y_test, prediction)\n",
    "print(f\"The number of true negatives are {con_matrix[0][0]}\")\n",
    "print(f\"The number of true positives  are {con_matrix[1][1]}\")\n",
    "print(f\"The number of false negatives are {con_matrix[1][0]}\")\n",
    "print(f\"The number of false positives are {con_matrix[0][1]}\")\n",
    "print(f\"The accuracy of the model is {round(accuracy_score(y_test, prediction)*100, 2)}%\")"
   ]
  }
 ],
 "metadata": {
  "kernelspec": {
   "display_name": "Python 3 (ipykernel)",
   "language": "python",
   "name": "python3"
  },
  "language_info": {
   "codemirror_mode": {
    "name": "ipython",
    "version": 3
   },
   "file_extension": ".py",
   "mimetype": "text/x-python",
   "name": "python",
   "nbconvert_exporter": "python",
   "pygments_lexer": "ipython3",
   "version": "3.11.7"
  }
 },
 "nbformat": 4,
 "nbformat_minor": 5
}
